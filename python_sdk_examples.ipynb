{
 "cells": [
  {
   "cell_type": "markdown",
   "metadata": {},
   "source": [
    "# Using the NCDS Python SDK\n",
    "\n",
    "This is a jupyter notebook for the example code of the Python SDK. To get set-up with the SDK, follow the directions on the github page.\n",
    "\n",
    "**NOTE**: Be sure that your notebook is using Python 3.9 when running the examples"
   ]
  },
  {
   "cell_type": "markdown",
   "metadata": {},
   "source": [
    "## Code Examples\n",
    "\n",
    "### Getting list of data stream available\n",
    "List all available data stream for the user"
   ]
  },
  {
   "cell_type": "code",
   "execution_count": 1,
   "metadata": {},
   "outputs": [],
   "source": [
    "import json\n",
    "\n",
    "with open('/home/nasdaqkafka/client-authentication-config.json', 'r') as sec_json_cfg:\n",
    "    security_cfg = json.load(sec_json_cfg)\n",
    "kafka_cfg = {\n",
    "    \"bootstrap.servers\": \"kafka-bootstrap.clouddataservice.nasdaq.com:9094\",\n",
    "    \"auto.offset.reset\": \"earliest\"\n",
    "}"
   ]
  },
  {
   "cell_type": "code",
   "execution_count": 2,
   "metadata": {},
   "outputs": [],
   "source": [
    "from ncdssdk import NCDSClient"
   ]
  },
  {
   "cell_type": "code",
   "execution_count": 6,
   "metadata": {},
   "outputs": [
    {
     "name": "stdout",
     "output_type": "stream",
     "text": [
      "Data set topics:\n",
      "BENZINGA\n",
      "CHIX-BASIC\n",
      "CQT-CTA-A-V2\n",
      "CQT-CTA-B-V2\n",
      "CQT-DELAYED-CTA-A-V2\n",
      "CQT-DELAYED-CTA-B-V2\n",
      "CQT-DELAYED-OTCBB-V2\n",
      "CQT-DELAYED-UTPBIN-V2\n",
      "CQT-OTCBB-V2\n",
      "CQT-UTPBIN-V2\n",
      "CTA-A-UF30\n",
      "CTA-A-UF30-TRADES\n",
      "CTA-B-UF30\n",
      "CTA-B-UF30-TRADES\n",
      "GIDS\n",
      "NASDAQ-SMART-OPTIONS-1\n",
      "NASDAQ-SMART-OPTIONS-10\n",
      "NASDAQ-SMART-OPTIONS-11\n",
      "NASDAQ-SMART-OPTIONS-12\n",
      "NASDAQ-SMART-OPTIONS-13\n",
      "NASDAQ-SMART-OPTIONS-14\n",
      "NASDAQ-SMART-OPTIONS-15\n",
      "NASDAQ-SMART-OPTIONS-16\n",
      "NASDAQ-SMART-OPTIONS-17\n",
      "NASDAQ-SMART-OPTIONS-18\n",
      "NASDAQ-SMART-OPTIONS-19\n",
      "NASDAQ-SMART-OPTIONS-2\n",
      "NASDAQ-SMART-OPTIONS-20\n",
      "NASDAQ-SMART-OPTIONS-201\n",
      "NASDAQ-SMART-OPTIONS-202\n",
      "NASDAQ-SMART-OPTIONS-203\n",
      "NASDAQ-SMART-OPTIONS-204\n",
      "NASDAQ-SMART-OPTIONS-21\n",
      "NASDAQ-SMART-OPTIONS-22\n",
      "NASDAQ-SMART-OPTIONS-23\n",
      "NASDAQ-SMART-OPTIONS-24\n",
      "NASDAQ-SMART-OPTIONS-25\n",
      "NASDAQ-SMART-OPTIONS-26\n",
      "NASDAQ-SMART-OPTIONS-27\n",
      "NASDAQ-SMART-OPTIONS-28\n",
      "NASDAQ-SMART-OPTIONS-29\n",
      "NASDAQ-SMART-OPTIONS-3\n",
      "NASDAQ-SMART-OPTIONS-30\n",
      "NASDAQ-SMART-OPTIONS-31\n",
      "NASDAQ-SMART-OPTIONS-32\n",
      "NASDAQ-SMART-OPTIONS-33\n",
      "NASDAQ-SMART-OPTIONS-34\n",
      "NASDAQ-SMART-OPTIONS-35\n",
      "NASDAQ-SMART-OPTIONS-36\n",
      "NASDAQ-SMART-OPTIONS-37\n",
      "NASDAQ-SMART-OPTIONS-38\n",
      "NASDAQ-SMART-OPTIONS-39\n",
      "NASDAQ-SMART-OPTIONS-4\n",
      "NASDAQ-SMART-OPTIONS-40\n",
      "NASDAQ-SMART-OPTIONS-41\n",
      "NASDAQ-SMART-OPTIONS-42\n",
      "NASDAQ-SMART-OPTIONS-43\n",
      "NASDAQ-SMART-OPTIONS-44\n",
      "NASDAQ-SMART-OPTIONS-45\n",
      "NASDAQ-SMART-OPTIONS-46\n",
      "NASDAQ-SMART-OPTIONS-47\n",
      "NASDAQ-SMART-OPTIONS-48\n",
      "NASDAQ-SMART-OPTIONS-5\n",
      "NASDAQ-SMART-OPTIONS-6\n",
      "NASDAQ-SMART-OPTIONS-7\n",
      "NASDAQ-SMART-OPTIONS-8\n",
      "NASDAQ-SMART-OPTIONS-9\n",
      "NEWS-PRO-GLOBAL\n",
      "NFN\n",
      "NLSBSX\n",
      "NLSCTA\n",
      "NLSCTA-DELAYED\n",
      "NLSPSX\n",
      "NLSUTP\n",
      "NLSUTP-DELAYED\n",
      "OTCBB-UF30\n",
      "QBBO-A-BSX\n",
      "QBBO-A-CORE\n",
      "QBBO-A-CORE-DELAYED\n",
      "QBBO-A-PSX\n",
      "QBBO-B-BSX\n",
      "QBBO-B-CORE\n",
      "QBBO-B-CORE-DELAYED\n",
      "QBBO-B-PSX\n",
      "QBBO-C-BSX\n",
      "QBBO-C-CORE\n",
      "QBBO-C-CORE-DELAYED\n",
      "QBBO-C-PSX\n",
      "TOTALVIEW\n",
      "TOTALVIEW-BSX\n",
      "TOTALVIEW-PSX\n",
      "UTPBIN-UF30\n",
      "UTPBIN-UF30-TRADES\n"
     ]
    }
   ],
   "source": [
    "ncds_client = NCDSClient(security_cfg, kafka_cfg)\n",
    "topics = ncds_client.list_topics_for_client()\n",
    "print(\"Data set topics:\")\n",
    "topics.sort()\n",
    "for topic_entry in topics:\n",
    "    print(topic_entry)"
   ]
  },
  {
   "cell_type": "markdown",
   "metadata": {},
   "source": [
    "### Getting schema for the stream\n",
    "\n",
    "This method returns the schema for the stream in Apache Avro format (https://avro.apache.org/docs/current/spec.html)"
   ]
  },
  {
   "cell_type": "code",
   "execution_count": null,
   "metadata": {},
   "outputs": [],
   "source": [
    "ncds_client = NCDSClient(security_cfg, kafka_cfg)\n",
    "topic = \"TOTALVIEW\"\n",
    "schema = ncds_client.get_schema_for_topic(topic)\n",
    "print(schema)"
   ]
  },
  {
   "cell_type": "code",
   "execution_count": 37,
   "id": "0eb56de6",
   "metadata": {},
   "outputs": [],
   "source": [
    "import json\n",
    "\n",
    "schema_dict = json.loads(schema)\n",
    "def write_config_dict(f, each_subconfig):\n",
    "    f.write(f\"  Name: {each_subconfig['name']}\\n\")\n",
    "    f.write(\"  StaticVars:\\n\")\n",
    "    f.write(f\"    message_type: {each_subconfig['type']}\\n\")\n",
    "    f.write(f\"    version: {each_subconfig['version']}\\n\")\n",
    "    f.write(f\"    name: {each_subconfig['name']}\\n\")\n",
    "    f.write(f\"    namespace: {each_subconfig['namespace']}\\n\")\n",
    "    f.write(\"  PrivateVars: {}\\n\")\n",
    "    f.write(\"  PublicVars:\\n\")\n",
    "    for each_field in each_subconfig['fields']:\n",
    "        f.write(f\"    {each_field['name']}: {each_field['type']}\\n\")\n",
    "        \n",
    "with open('TOTALVIEW_schema.yaml', 'w') as f:\n",
    "    f.write(f'Classes: \\n-')\n",
    "    for each_subconfig in schema_dict[:2]:\n",
    "        write_config_dict(f, each_subconfig)"
   ]
  },
  {
   "cell_type": "markdown",
   "metadata": {},
   "source": [
    "### Get first 10 messages of the stream"
   ]
  },
  {
   "cell_type": "code",
   "execution_count": 5,
   "metadata": {},
   "outputs": [
    {
     "name": "stdout",
     "output_type": "stream",
     "text": [
      "WARNING: Using the Old Schema! It might not be the latest schema.\n",
      "key:  102940172\n",
      "value:  {'SoupPartition': 0, 'SoupSequence': 102940172, 'msgType': 'A', 'symbolLocate': 8248, 'uniqueTimestamp': 35999995352338, 'orderId': 107686155, 'side': 'B', 'quantity': 100, 'symbol': 'PBTS', 'price': 1572, 'schema_name': 'SeqAddOrderMessage'}\n",
      "key:  102940173\n",
      "value:  {'SoupPartition': 0, 'SoupSequence': 102940173, 'msgType': 'A', 'symbolLocate': 8248, 'uniqueTimestamp': 35999995433321, 'orderId': 107686159, 'side': 'B', 'quantity': 100, 'symbol': 'PBTS', 'price': 1572, 'schema_name': 'SeqAddOrderMessage'}\n",
      "key:  102940174\n",
      "value:  {'SoupPartition': 0, 'SoupSequence': 102940174, 'msgType': 'A', 'symbolLocate': 2233, 'uniqueTimestamp': 35999995497069, 'orderId': 91197029, 'side': 'B', 'quantity': 100, 'symbol': 'CMI', 'price': 2475500, 'schema_name': 'SeqAddOrderMessage'}\n",
      "key:  102940175\n",
      "value:  {'SoupPartition': 0, 'SoupSequence': 102940175, 'msgType': 'A', 'symbolLocate': 2233, 'uniqueTimestamp': 35999995499334, 'orderId': 91197033, 'side': 'S', 'quantity': 100, 'symbol': 'CMI', 'price': 2517900, 'schema_name': 'SeqAddOrderMessage'}\n",
      "key:  102940176\n",
      "value:  {'SoupPartition': 0, 'SoupSequence': 102940176, 'msgType': 'A', 'symbolLocate': 2233, 'uniqueTimestamp': 35999995532438, 'orderId': 91197037, 'side': 'B', 'quantity': 100, 'symbol': 'CMI', 'price': 2475500, 'schema_name': 'SeqAddOrderMessage'}\n",
      "key:  102940177\n",
      "value:  {'SoupPartition': 0, 'SoupSequence': 102940177, 'msgType': 'A', 'symbolLocate': 2233, 'uniqueTimestamp': 35999995546985, 'orderId': 91197041, 'side': 'S', 'quantity': 100, 'symbol': 'CMI', 'price': 2517900, 'schema_name': 'SeqAddOrderMessage'}\n",
      "key:  102940178\n",
      "value:  {'SoupPartition': 0, 'SoupSequence': 102940178, 'msgType': 'A', 'symbolLocate': 7456, 'uniqueTimestamp': 35999995597536, 'orderId': 107686163, 'side': 'S', 'quantity': 100, 'symbol': 'NCLH', 'price': 179400, 'schema_name': 'SeqAddOrderMessage'}\n",
      "key:  102940179\n",
      "value:  {'SoupPartition': 0, 'SoupSequence': 102940179, 'msgType': 'A', 'symbolLocate': 7456, 'uniqueTimestamp': 35999995629130, 'orderId': 107686167, 'side': 'S', 'quantity': 400, 'symbol': 'NCLH', 'price': 179400, 'schema_name': 'SeqAddOrderMessage'}\n",
      "key:  102940180\n",
      "value:  {'SoupPartition': 0, 'SoupSequence': 102940180, 'msgType': 'D', 'symbolLocate': 11135, 'uniqueTimestamp': 35999995652928, 'orderId': 159386480, 'schema_name': 'SeqOrderDeleteMessage'}\n",
      "key:  102940181\n",
      "value:  {'SoupPartition': 0, 'SoupSequence': 102940181, 'msgType': 'D', 'symbolLocate': 209, 'uniqueTimestamp': 35999995680664, 'orderId': 91196929, 'schema_name': 'SeqOrderDeleteMessage'}\n"
     ]
    }
   ],
   "source": [
    "ncds_client = NCDSClient(security_cfg, kafka_cfg)\n",
    "topic = \"TOTALVIEW\"\n",
    "records = ncds_client.top_messages(topic)\n",
    "for i in range(0, 10):\n",
    "    print(\"key: \", records[i].key())\n",
    "    print(\"value: \", str(records[i].value()))"
   ]
  },
  {
   "cell_type": "markdown",
   "metadata": {},
   "source": [
    "### Get first 10 messages of the stream from given timestamp\n",
    "This returns the first 10 available messages of the stream given timestamp in milliseconds since the UNIX epoch."
   ]
  },
  {
   "cell_type": "code",
   "execution_count": 7,
   "metadata": {},
   "outputs": [
    {
     "name": "stdout",
     "output_type": "stream",
     "text": [
      "WARNING: Using the Old Schema! It might not be the latest schema.\n",
      "key:  1\n",
      "value:  {'SoupPartition': 0, 'SoupSequence': 1, 'msgType': 'S', 'symbolLocate': 0, 'uniqueTimestamp': 10915418418972, 'event': 'O', 'schema_name': 'SeqSystemEventMessage'}\n",
      "key:  2\n",
      "value:  {'SoupPartition': 0, 'SoupSequence': 2, 'msgType': 'R', 'symbolLocate': 1, 'uniqueTimestamp': 11242298022170, 'symbol': 'A', 'marketCategory': 'N', 'fsi': '', 'roundLotSize': 100, 'roundLotOnly': 'N', 'issueClassification': 'C', 'issueSubtype': 'Z', 'authenticity': 'P', 'shortSaleThreshold': 'N', 'ipoFlag': '', 'luldPriceTier': '1', 'etpFlag': 'N', 'etpLeverageFactor': 0, 'inverse': 'N', 'schema_name': 'SeqSymbolDirectoryMessage'}\n",
      "key:  3\n",
      "value:  {'SoupPartition': 0, 'SoupSequence': 3, 'msgType': 'R', 'symbolLocate': 2, 'uniqueTimestamp': 11242298056060, 'symbol': 'AA', 'marketCategory': 'N', 'fsi': '', 'roundLotSize': 100, 'roundLotOnly': 'N', 'issueClassification': 'C', 'issueSubtype': 'Z', 'authenticity': 'P', 'shortSaleThreshold': 'N', 'ipoFlag': '', 'luldPriceTier': '1', 'etpFlag': 'N', 'etpLeverageFactor': 0, 'inverse': 'N', 'schema_name': 'SeqSymbolDirectoryMessage'}\n",
      "key:  4\n",
      "value:  {'SoupPartition': 0, 'SoupSequence': 4, 'msgType': 'R', 'symbolLocate': 3, 'uniqueTimestamp': 11242298081009, 'symbol': 'AAA', 'marketCategory': 'P', 'fsi': '', 'roundLotSize': 100, 'roundLotOnly': 'N', 'issueClassification': 'Q', 'issueSubtype': 'I', 'authenticity': 'P', 'shortSaleThreshold': 'N', 'ipoFlag': '', 'luldPriceTier': '2', 'etpFlag': 'Y', 'etpLeverageFactor': 0, 'inverse': 'N', 'schema_name': 'SeqSymbolDirectoryMessage'}\n",
      "key:  5\n",
      "value:  {'SoupPartition': 0, 'SoupSequence': 5, 'msgType': 'R', 'symbolLocate': 4, 'uniqueTimestamp': 11242298104464, 'symbol': 'AAAU', 'marketCategory': 'Z', 'fsi': '', 'roundLotSize': 100, 'roundLotOnly': 'N', 'issueClassification': 'Q', 'issueSubtype': 'I', 'authenticity': 'P', 'shortSaleThreshold': 'N', 'ipoFlag': '', 'luldPriceTier': '1', 'etpFlag': 'Y', 'etpLeverageFactor': 0, 'inverse': 'N', 'schema_name': 'SeqSymbolDirectoryMessage'}\n",
      "key:  6\n",
      "value:  {'SoupPartition': 0, 'SoupSequence': 6, 'msgType': 'R', 'symbolLocate': 5, 'uniqueTimestamp': 11242298126687, 'symbol': 'AAC', 'marketCategory': 'N', 'fsi': '', 'roundLotSize': 100, 'roundLotOnly': 'N', 'issueClassification': 'O', 'issueSubtype': 'Z', 'authenticity': 'P', 'shortSaleThreshold': 'N', 'ipoFlag': '', 'luldPriceTier': '2', 'etpFlag': 'N', 'etpLeverageFactor': 0, 'inverse': 'N', 'schema_name': 'SeqSymbolDirectoryMessage'}\n",
      "key:  7\n",
      "value:  {'SoupPartition': 0, 'SoupSequence': 7, 'msgType': 'R', 'symbolLocate': 6, 'uniqueTimestamp': 11242298148628, 'symbol': 'AAC+', 'marketCategory': 'N', 'fsi': '', 'roundLotSize': 100, 'roundLotOnly': 'N', 'issueClassification': 'W', 'issueSubtype': 'Z', 'authenticity': 'P', 'shortSaleThreshold': 'N', 'ipoFlag': '', 'luldPriceTier': '', 'etpFlag': 'N', 'etpLeverageFactor': 0, 'inverse': 'N', 'schema_name': 'SeqSymbolDirectoryMessage'}\n",
      "key:  8\n",
      "value:  {'SoupPartition': 0, 'SoupSequence': 8, 'msgType': 'R', 'symbolLocate': 7, 'uniqueTimestamp': 11242298170224, 'symbol': 'AAC=', 'marketCategory': 'N', 'fsi': '', 'roundLotSize': 100, 'roundLotOnly': 'N', 'issueClassification': 'U', 'issueSubtype': 'Z', 'authenticity': 'P', 'shortSaleThreshold': 'N', 'ipoFlag': '', 'luldPriceTier': '2', 'etpFlag': 'N', 'etpLeverageFactor': 0, 'inverse': 'N', 'schema_name': 'SeqSymbolDirectoryMessage'}\n",
      "key:  9\n",
      "value:  {'SoupPartition': 0, 'SoupSequence': 9, 'msgType': 'R', 'symbolLocate': 8, 'uniqueTimestamp': 11242298194659, 'symbol': 'AACG', 'marketCategory': 'G', 'fsi': 'N', 'roundLotSize': 100, 'roundLotOnly': 'N', 'issueClassification': 'A', 'issueSubtype': 'Z', 'authenticity': 'P', 'shortSaleThreshold': 'N', 'ipoFlag': 'N', 'luldPriceTier': '2', 'etpFlag': 'N', 'etpLeverageFactor': 0, 'inverse': 'N', 'schema_name': 'SeqSymbolDirectoryMessage'}\n",
      "key:  10\n",
      "value:  {'SoupPartition': 0, 'SoupSequence': 10, 'msgType': 'R', 'symbolLocate': 9, 'uniqueTimestamp': 11242298215953, 'symbol': 'AACI', 'marketCategory': 'G', 'fsi': 'N', 'roundLotSize': 100, 'roundLotOnly': 'N', 'issueClassification': 'C', 'issueSubtype': 'Z', 'authenticity': 'P', 'shortSaleThreshold': 'N', 'ipoFlag': 'N', 'luldPriceTier': '2', 'etpFlag': 'N', 'etpLeverageFactor': 0, 'inverse': 'N', 'schema_name': 'SeqSymbolDirectoryMessage'}\n"
     ]
    }
   ],
   "source": [
    "ncds_client = NCDSClient(security_cfg, kafka_cfg)\n",
    "topic=\"TOTALVIEW\"\n",
    "timestamp = 1590084446510\n",
    "records = ncds_client.top_messages(topic, timestamp)\n",
    "for i in range(0, 10):\n",
    "    print(\"key: \", records[i].key())\n",
    "    print(\"value: \", str(records[i].value()))"
   ]
  },
  {
   "cell_type": "markdown",
   "metadata": {},
   "source": [
    "### Get example message from stream\n",
    "Print message to the console for given message name."
   ]
  },
  {
   "cell_type": "code",
   "execution_count": 10,
   "metadata": {},
   "outputs": [
    {
     "name": "stdout",
     "output_type": "stream",
     "text": [
      "WARNING: Using the Old Schema! It might not be the latest schema.\n",
      "{'SoupPartition': 0, 'SoupSequence': 102950982, 'msgType': 'F', 'symbolLocate': 6440, 'uniqueTimestamp': 36000015416035, 'orderId': 107694299, 'side': 'S', 'quantity': 900, 'symbol': 'LASR', 'price': 114700, 'mpid': 'GSCO', 'schema_name': 'SeqAddAttributedOrderMessage'}\n"
     ]
    }
   ],
   "source": [
    "ncds_client = NCDSClient(security_cfg, kafka_cfg)\n",
    "topic = \"TOTALVIEW\"\n",
    "print(ncds_client.get_sample_messages(topic, \"SeqAddAttributedOrderMessage\", all_messages=False))"
   ]
  },
  {
   "cell_type": "markdown",
   "metadata": {},
   "source": [
    "### Get continuous stream"
   ]
  },
  {
   "cell_type": "code",
   "execution_count": 9,
   "metadata": {},
   "outputs": [
    {
     "name": "stdout",
     "output_type": "stream",
     "text": [
      "WARNING: Using the Old Schema! It might not be the latest schema.\n",
      "value :\n",
      "{'SoupPartition': 0, 'SoupSequence': 102940172, 'msgType': 'A', 'symbolLocate': 8248, 'uniqueTimestamp': 35999995352338, 'orderId': 107686155, 'side': 'B', 'quantity': 100, 'symbol': 'PBTS', 'price': 1572, 'schema_name': 'SeqAddOrderMessage'}\n",
      "value :\n",
      "{'SoupPartition': 0, 'SoupSequence': 102940173, 'msgType': 'A', 'symbolLocate': 8248, 'uniqueTimestamp': 35999995433321, 'orderId': 107686159, 'side': 'B', 'quantity': 100, 'symbol': 'PBTS', 'price': 1572, 'schema_name': 'SeqAddOrderMessage'}\n",
      "value :\n",
      "{'SoupPartition': 0, 'SoupSequence': 102940174, 'msgType': 'A', 'symbolLocate': 2233, 'uniqueTimestamp': 35999995497069, 'orderId': 91197029, 'side': 'B', 'quantity': 100, 'symbol': 'CMI', 'price': 2475500, 'schema_name': 'SeqAddOrderMessage'}\n",
      "value :\n",
      "{'SoupPartition': 0, 'SoupSequence': 102940175, 'msgType': 'A', 'symbolLocate': 2233, 'uniqueTimestamp': 35999995499334, 'orderId': 91197033, 'side': 'S', 'quantity': 100, 'symbol': 'CMI', 'price': 2517900, 'schema_name': 'SeqAddOrderMessage'}\n",
      "value :\n",
      "{'SoupPartition': 0, 'SoupSequence': 102940176, 'msgType': 'A', 'symbolLocate': 2233, 'uniqueTimestamp': 35999995532438, 'orderId': 91197037, 'side': 'B', 'quantity': 100, 'symbol': 'CMI', 'price': 2475500, 'schema_name': 'SeqAddOrderMessage'}\n",
      "value :\n",
      "{'SoupPartition': 0, 'SoupSequence': 102940177, 'msgType': 'A', 'symbolLocate': 2233, 'uniqueTimestamp': 35999995546985, 'orderId': 91197041, 'side': 'S', 'quantity': 100, 'symbol': 'CMI', 'price': 2517900, 'schema_name': 'SeqAddOrderMessage'}\n",
      "value :\n",
      "{'SoupPartition': 0, 'SoupSequence': 102940178, 'msgType': 'A', 'symbolLocate': 7456, 'uniqueTimestamp': 35999995597536, 'orderId': 107686163, 'side': 'S', 'quantity': 100, 'symbol': 'NCLH', 'price': 179400, 'schema_name': 'SeqAddOrderMessage'}\n",
      "value :\n",
      "{'SoupPartition': 0, 'SoupSequence': 102940179, 'msgType': 'A', 'symbolLocate': 7456, 'uniqueTimestamp': 35999995629130, 'orderId': 107686167, 'side': 'S', 'quantity': 400, 'symbol': 'NCLH', 'price': 179400, 'schema_name': 'SeqAddOrderMessage'}\n",
      "value :\n",
      "{'SoupPartition': 0, 'SoupSequence': 102940180, 'msgType': 'D', 'symbolLocate': 11135, 'uniqueTimestamp': 35999995652928, 'orderId': 159386480, 'schema_name': 'SeqOrderDeleteMessage'}\n",
      "value :\n",
      "{'SoupPartition': 0, 'SoupSequence': 102940181, 'msgType': 'D', 'symbolLocate': 209, 'uniqueTimestamp': 35999995680664, 'orderId': 91196929, 'schema_name': 'SeqOrderDeleteMessage'}\n"
     ]
    }
   ],
   "source": [
    "ncds_client = NCDSClient(security_cfg, kafka_cfg)\n",
    "topic = \"TOTALVIEW\"\n",
    "consumer = ncds_client.ncds_kafka_consumer(topic)\n",
    "for i in range(0, 10):\n",
    "    messages = consumer.consume(num_messages=1, timeout=5)\n",
    "    if len(messages) == 0:\n",
    "        print(f\"No Records Found for the Topic: {topic}\")\n",
    "              \n",
    "    for message in messages:\n",
    "        print(f\"value :\")\n",
    "        print(message.value())"
   ]
  },
  {
   "cell_type": "code",
   "execution_count": null,
   "id": "9a65f05d",
   "metadata": {},
   "outputs": [],
   "source": []
  }
 ],
 "metadata": {
  "kernelspec": {
   "display_name": "Python 3.9.12 ('base')",
   "language": "python",
   "name": "python3"
  },
  "language_info": {
   "codemirror_mode": {
    "name": "ipython",
    "version": 3
   },
   "file_extension": ".py",
   "mimetype": "text/x-python",
   "name": "python",
   "nbconvert_exporter": "python",
   "pygments_lexer": "ipython3",
   "version": "3.9.12"
  },
  "vscode": {
   "interpreter": {
    "hash": "5d8c1b2387355568706efefe4fca8fdda673fc02ba2915867e354a7b455a932c"
   }
  }
 },
 "nbformat": 4,
 "nbformat_minor": 5
}
